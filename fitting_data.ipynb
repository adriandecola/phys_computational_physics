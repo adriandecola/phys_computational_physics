{
    "metadata": {
        "kernelspec": {
            "name": "python3",
            "display_name": "Python 3 (ipykernel)",
            "language": "python"
        }
    },
    "nbformat": 4,
    "nbformat_minor": 1,
    "cells": [
        {
            "attachments": {},
            "cell_type": "markdown",
            "metadata": {},
            "source": [
                "# Lab 8: Fitting Data\n",
                "\n",
                "Today we will take a bit of a detour from *creating theoretical models* to *fitting* models to existing data. In a sense, fitting straight lines to data is the most important exercise in physics. It is how we test our theoretical understanding, and how we build intuition about the world.\n",
                "\n",
                "A linear model has two parameters, $a$ and $b$:\n",
                "\n",
                "$$\n",
                "y(x) = a + b x.\n",
                "$$\n",
                "\n",
                "When we have a set of $i$ data points, we have $i$ equations for a linear model. Since one only needs two points to define a linear model, if $i \u003e2$ we either have redundant data or multiple, conflicting linear models. \n",
                "\n",
                "To see this, consider the following data, where $x_i$ is an equally spaced independent variable, and $y_i$ represents some data measured by an experiment. \n",
                "\n",
                "It's extremely important to remember what we're doing here, as we'll get down into the details quite a bit. **We are attempting to find $a$ and $b$, the *parameters* of the model, given the data $x_i$ and $y_i$**"
            ]
        },
        {
            "cell_type": "code",
            "execution_count": 1,
            "metadata": {},
            "outputs": [],
            "source": [
                "import numpy as np"
            ]
        },
        {
            "cell_type": "code",
            "execution_count": 2,
            "metadata": {},
            "outputs": [],
            "source": [
                "x = np.arange(3)/9.\n",
                "y = np.array([  0.23696017,   1.28964065,   3.01036873])"
            ]
        },
        {
            "attachments": {},
            "cell_type": "markdown",
            "metadata": {},
            "source": [
                "Here, we clearly see that $i = 3$. So we can go ahead and write three equations for $a$ and $b$:\n",
                "\n",
                "$$\n",
                "\\begin{align}\n",
                "y_0 \u0026= a + b x_0\\\\\n",
                "y_1 \u0026= a + b x_1\\\\\n",
                "y_2 \u0026= a + b x_2\\\\\n",
                "\\end{align}\n",
                "$$"
            ]
        },
        {
            "attachments": {},
            "cell_type": "markdown",
            "metadata": {},
            "source": [
                "Obviously, if all three $y_i$ do not lie on the same line, each pair of equations will give *different* values for $a$ and $b$. Try this for yourself. In the cell below, compute $a$ and $b$ for two pairs of equations: first use $x_0, y_0$ and $x_1, y_1$ and then use $x_1, y_1$ and $x_2, y_2$."
            ]
        },
        {
            "cell_type": "code",
            "execution_count": 4,
            "metadata": {},
            "outputs": [
                {
                    "name": "stdout",
                    "output_type": "stream",
                    "text": "Using the first two points: a = 0.23696017 and b = 9.474124320000001.\nUsing the second two points: a = -0.43108743000000027 and b = 15.486552720000002.\n"
                }
            ],
            "source": [
                "b_0_1 = (y[1]-y[0])/(x[1]-x[0])\n",
                "a_0_1 = y[0]-b_0_1*x[0]\n",
                "\n",
                "b_1_2 = (y[2]-y[1])/(x[2]-x[1])\n",
                "a_1_2 = y[1]-b_1_2*x[1]\n",
                "\n",
                "print(f\"Using the first two points: a = {a_0_1} and b = {b_0_1}.\")\n",
                "print(f\"Using the second two points: a = {a_1_2} and b = {b_1_2}.\")\n",
                ""
            ]
        },
        {
            "attachments": {},
            "cell_type": "markdown",
            "metadata": {},
            "source": [
                "Of course, in reality, one has far more than three data points and thus far more than a few different possible $a$ and $b$. So we need to come up with a way of estimating the **best** parameters $a$ and $b$ given the data. This is typically called the **best fit**. Here, we'll lay out the method of least squares. The **best fit model** is the one that minimizes a parameter called $\\chi^2$:\n",
                "\n",
                "$$\n",
                "\\chi^2 = \\sum_{i=1}^N \\frac{(y_i - a - b x_i)^2}{\\sigma^2}.\n",
                "$$\n",
                "\n",
                "How do we minimize this quantity? The same way we minimize anything else: we take derivatives with respect to the quantities we can change and set them to zero. In this case, $y_i$ and $x_i$ are constants given by the experiment. They are not variables to us! What then do we minimize over? $a$ and $b$! \n",
                "\n",
                "$$\n",
                "\\begin{align}\n",
                "\\frac{ \\partial \\chi^2}{\\partial a} \u0026= -2 \\sum_{i=1}^N (y_i - a - b x_i) = 0\\\\\n",
                "\\frac{ \\partial \\chi^2}{\\partial b} \u0026= -2 \\sum_{i=1}^N x_i (y_i - a - b x_i) = 0.\n",
                "\\end{align}\n",
                "$$\n",
                "\n",
                "**Do the derivatives yourself on a piece of paper.** This looks complicated, but actually, it's just a bunch of linear equations. Computers are rather good at solving those, so all we need to do is rewrite it into a form that is easy to compute. We'll use the language of linear algebra, and create a matrix equation for $a$ and $b$:\n",
                "\n",
                "$$\n",
                "\\begin{pmatrix}\n",
                "N \u0026 \\sum x_i \\\\\n",
                "\\sum x_i \u0026 \\sum x_i^2 \\\\\n",
                "\\end{pmatrix}\n",
                "\\begin{pmatrix}\n",
                "a \\\\\n",
                "b\\\\\n",
                "\\end{pmatrix}\n",
                "=\n",
                "\\begin{pmatrix}\n",
                "\\sum y_i\\\\\n",
                "\\sum x_i y_i\\\\\n",
                "\\end{pmatrix}\n",
                "$$\n",
                "\n",
                "This can clearly be solved for $a$ and $b$ by inverting the matrix on the right hand side, and multiplying that by the left hand side:\n",
                "\n",
                "$$\n",
                "\\begin{pmatrix}\n",
                "a \\\\\n",
                "b\\\\\n",
                "\\end{pmatrix}\n",
                "=\n",
                "\\begin{pmatrix}\n",
                "\\frac{\\sum x_i^2}{N \\sum x_i^2 - \\sum x_i \\sum x_i} \u0026 \\frac{-\\sum x_i}{N \\sum x_i^2 - \\sum x_i \\sum x_i} \\\\\n",
                "\\frac{-\\sum x_i}{N \\sum x_i^2 - \\sum x_i \\sum x_i} \u0026  \\frac{N}{N \\sum x_i^2 - \\sum x_i \\sum x_i}\\\\\n",
                "\\end{pmatrix}\n",
                "\\begin{pmatrix}\n",
                "\\sum y_i\\\\\n",
                "\\sum x_i y_i\\\\\n",
                "\\end{pmatrix}\n",
                "$$\n",
                "\n",
                "**Note carefully:**  $\\sum x_i^2 \\ne \\sum x_i \\sum x_i$ (think about this for a minute!)\n",
                " \n",
                "Solving this set of equations gives you the parameters $a$ and $b$ that best fit your data. But, the power of this method is that it not only gives you the best fit, it also gives you an estimate of the error in those parameters. This is why the variance \n",
                "$$\n",
                "\\sigma^2 = \\lim_{x \\to \\infty} \\frac{1}{N} \\sum_{i=1}^N (x_i -\\mu)^2,\n",
                "$$\n",
                "where $\\mu = \\lim_{x \\to \\infty} (\\sum_{i=1}^N x_i)/N$ is the mean, is inserted into the definition of $\\chi^2$. The variance on each parameter $a$ and $b$ is given by\n",
                "\n",
                "$$\n",
                "\\sigma_a^2 = \\sum_{i=1}^N \\sigma^2 \\left( \\frac{d a}{d y_i} \\right)^2 = \\frac{\\sum x_i^2}{N \\sum x_i^2 - \\sum x_i \\sum x_i} \\sigma^2\\\\\n",
                "\\sigma_b^2 = \\sum_{i=1}^N \\sigma^2 \\left( \\frac{d b}{d y_i}\\right)^2 = \\frac{N}{N \\sum x_i^2 - \\sum x_i \\sum x_i} \\sigma^2.\n",
                "$$\n",
                "\n",
                "Again, these equations *look* involved, but don't be intimidated. Note that the right hand side of all of these can be computed from the data that you have simply by summing and dividing. These are arithmatical techniques that the computer can already do.\n",
                "\n",
                "## Another View\n",
                "Let's look at this from a different perspective. Go back to the $i$ equations that make up our original dataset and the linear model. We can write them as a simple matrix equation:\n",
                "\n",
                "$$\n",
                "\\begin{pmatrix}\n",
                "y_1\\\\\n",
                "y_2\\\\\n",
                "\\vdots\\\\\n",
                "y_N\n",
                "\\end{pmatrix}\n",
                "=\n",
                "\\begin{pmatrix}\n",
                "1 \u0026 x_1\\\\\n",
                "1 \u0026 x_2\\\\\n",
                "\\vdots \u0026 \\vdots\\\\\n",
                "1 \u0026 x_N\\\\\n",
                "\\end{pmatrix}\n",
                "\\begin{pmatrix}\n",
                "a \\\\\n",
                "b\\\\\n",
                "\\end{pmatrix},\n",
                "$$\n",
                "which can be written simply as $\\vec{y} = M \\vec{p}$, where $\\vec{p} = (a\\ b)$ and $M$ is given by\n",
                "$$\n",
                "M = \\begin{pmatrix}\n",
                "1 \u0026 x_1\\\\\n",
                "1 \u0026 x_2\\\\\n",
                "\\vdots \u0026 \\vdots\\\\\n",
                "1 \u0026 x_N\\\\\n",
                "\\end{pmatrix}\n",
                "$$\n",
                ". Now, if we multiply both sides by the transpose of $M^T$, we have \n",
                "$$\n",
                "M^T \\vec{y} = M^T M \\vec{p}\n",
                "$$,\n",
                "\n",
                "where (as you should verify for yourself)\n",
                "\n",
                "$$\n",
                "M^T \\vec{y} = \n",
                "\\begin{pmatrix}\n",
                "\\sum y_i\\\\\n",
                "\\sum x_i y_i\\\\\n",
                "\\end{pmatrix}\n",
                "$$\n",
                "\n",
                "and \n",
                "\n",
                "$$\n",
                "M^T M = \n",
                "\\begin{pmatrix}\n",
                "N \u0026 \\sum x_i\\\\\n",
                "\\sum x_i \u0026 \\sum x_i^2\\\\\n",
                "\\end{pmatrix}\n",
                "$$\n",
                "Finally, we just solve for $\\vec{p}$:\n",
                "$$\n",
                "\\vec{p} = (M^T M)^{-1} M^T \\vec{y}.\n",
                "$$\n",
                "By the Gauss-Markov theorem, $\\vec{p}$ is the **least squares fit**. And this is all linear algebra that the computer can do for us very, very efficiently! Finally, \n",
                "the covariance matrix is given by \n",
                "\n",
                "$$\n",
                "\\begin{pmatrix}\n",
                "\\sigma_a^2 \u0026 \\sigma_{ab}^2\\\\\n",
                "\\sigma_{ab}^2 \u0026 \\sigma_b^2\\\\\n",
                "\\end{pmatrix}\n",
                "=\n",
                "(M^T M)^{-1} \\sigma^2\n",
                "$$\n",
                "\n",
                "This is a clear, easy to implement scheme to do least squares! Let's implement it, but see the note below about acutally using this in practice. Here's a simple dataset to try it on:"
            ]
        },
        {
            "cell_type": "code",
            "execution_count": 5,
            "metadata": {},
            "outputs": [],
            "source": [
                "x = np.array([0.,1.,2.,3.,4.])\n",
                "y = np.array([0.05, 0.88, 2.06, 2.95, 4.13])"
            ]
        },
        {
            "attachments": {},
            "cell_type": "markdown",
            "metadata": {},
            "source": [
                "Now, create $M$, $M^T$ (use `M.transpose()`), and $M^T M$. Since $M$ is just a stack of ones next to the data $x_i$, you can use the `np.column_stack()` command on a list of ones and the data. You can make a list of ones by using `np.ones(len(x))`, which is just like `np.zeros()` modified in the obvious way."
            ]
        },
        {
            "cell_type": "code",
            "execution_count": 6,
            "metadata": {},
            "outputs": [],
            "source": [
                "M = np.column_stack([np.ones(len(x)),x])\n",
                "MT = M.transpose()"
            ]
        },
        {
            "attachments": {},
            "cell_type": "markdown",
            "metadata": {},
            "source": [
                "Next remember that $M^T M$ is the *dot product* of the two matrices. `numpy` helpfully implements that too:"
            ]
        },
        {
            "cell_type": "code",
            "execution_count": 7,
            "metadata": {},
            "outputs": [],
            "source": [
                "MTM = np.dot(MT,M)"
            ]
        },
        {
            "attachments": {},
            "cell_type": "markdown",
            "metadata": {},
            "source": [
                "And of course, it also constructs the inverse for you too:"
            ]
        },
        {
            "cell_type": "code",
            "execution_count": 8,
            "metadata": {},
            "outputs": [],
            "source": [
                "MTM_inv = np.linalg.inv(MTM)"
            ]
        },
        {
            "attachments": {},
            "cell_type": "markdown",
            "metadata": {},
            "source": [
                "Finally, we construct $M^T \\vec{y}$:"
            ]
        },
        {
            "cell_type": "code",
            "execution_count": 9,
            "metadata": {},
            "outputs": [],
            "source": [
                "MTy = np.dot(MT,y)"
            ]
        },
        {
            "attachments": {},
            "cell_type": "markdown",
            "metadata": {},
            "source": [
                "and we can simply get $\\vec{p} = (M^T M)^{-1} M^T \\vec{y}$ with another dot product:"
            ]
        },
        {
            "cell_type": "code",
            "execution_count": 10,
            "metadata": {},
            "outputs": [
                {
                    "name": "stdout",
                    "output_type": "stream",
                    "text": "[-0.032  1.023]\n"
                }
            ],
            "source": [
                "p = np.dot(MTM_inv,MTy)\n",
                "print(p)"
            ]
        },
        {
            "attachments": {},
            "cell_type": "markdown",
            "metadata": {},
            "source": [
                "Finally, we make a plot. Plot $x$ and $y$ on the graph using the 'o' symbol (just do `plt.plot(x,y,'o')`). Then, create a fake set of $x$ using linspace from, say, -0.1 to 5. Then, using `a = p[0]` and `b = p[1]` and this new set of x (remember to call it something different), plot your fitted line, $y = a + b x$ "
            ]
        },
        {
            "cell_type": "code",
            "execution_count": 11,
            "metadata": {},
            "outputs": [],
            "source": [
                "import matplotlib.pyplot as plt\n",
                "plt.style.use('ggplot')\n",
                "plt.rcParams['figure.figsize'] = (10,10)"
            ]
        },
        {
            "cell_type": "code",
            "execution_count": 12,
            "metadata": {},
            "outputs": [],
            "source": [
                "xx = np.linspace(-0.1,5,100)\n",
                "yy = p[0] + p[1]*xx"
            ]
        },
        {
            "cell_type": "code",
            "execution_count": 13,
            "metadata": {},
            "outputs": [
                {
                    "data": {
                        "text/plain": "Text(0, 0.5, 'y')"
                    },
                    "execution_count": 13,
                    "metadata": {},
                    "output_type": "execute_result"
                },
                {
                    "data": {
                        "image/png": "[encoded data removed]",
                        "text/plain": "\u003cFigure size 1000x1000 with 1 Axes\u003e"
                    },
                    "metadata": {},
                    "output_type": "display_data"
                }
            ],
            "source": [
                "plt.plot(x,y,'o')\n",
                "plt.plot(xx,yy)\n",
                "plt.xlabel('x')\n",
                "plt.ylabel('y')"
            ]
        },
        {
            "attachments": {},
            "cell_type": "markdown",
            "metadata": {},
            "source": [
                "Finally, use the covarience matrix, $(M^T M)^{-1} \\sigma$ to compute the errors on $a$ and $b$."
            ]
        },
        {
            "cell_type": "code",
            "execution_count": 16,
            "metadata": {},
            "outputs": [
                {
                    "name": "stdout",
                    "output_type": "stream",
                    "text": "[[ 0.6 -0.2]\n [-0.2  0.1]]\n"
                }
            ],
            "source": [
                "sum = 0\n",
                "'''\n",
                "for i in range(len(x)):\n",
                "    sum+= ()\n",
                "sigma = 1/len(x) \n",
                "'''\n",
                "print(MTM_inv)"
            ]
        },
        {
            "attachments": {},
            "cell_type": "markdown",
            "metadata": {},
            "source": [
                "\u003cfont color = 'blue'\u003e\n",
                "I'm going to let this one be one of the questions I skip- I remember a lot about regressions from Econometrics and ED displays these equations is too confusing. \n",
                "\u003c/font\u003e"
            ]
        },
        {
            "attachments": {},
            "cell_type": "markdown",
            "metadata": {},
            "source": [
                "## Important note\n",
                "Computing the matrix inverse of $M^T M$ is required to get the covariance matrix. Typically, we don't invert matrices numerically unless we really, really need to. There's almost always a better way. In fact, the discussion above is pedagogical: I want you to learn how least squares works. In practice, one would use singular value decomposition to compute the least squares fit."
            ]
        },
        {
            "cell_type": "code",
            "execution_count": 14,
            "metadata": {},
            "outputs": [],
            "source": [
                ""
            ]
        }
    ]
}
