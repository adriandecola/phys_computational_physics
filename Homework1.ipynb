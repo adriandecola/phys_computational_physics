{
    "metadata": {
        "kernelspec": {
            "name": "python3",
            "display_name": "Python 3 (ipykernel)",
            "language": "python"
        }
    },
    "nbformat": 4,
    "nbformat_minor": 2,
    "cells": [
        {
            "attachments": {},
            "cell_type": "markdown",
            "metadata": {},
            "source": [
                "# Adrian deCola\n",
                "\n",
                "# Problem Set 1\n",
                "## Due Tuesday, 27 Sept 2022\n",
                "\n",
                "Answer each of the following questions. \n",
                "\n",
                "Make sure to run the code in the cells provided first to see how it works! Then modify it to answer the questions."
            ]
        },
        {
            "attachments": {},
            "cell_type": "markdown",
            "metadata": {},
            "source": [
                "\u003cfont color = red\u003e\n",
                "55/55 \n",
                "Great Job!\n",
                "\u003c/font\u003e"
            ]
        },
        {
            "cell_type": "code",
            "execution_count": 1,
            "metadata": {},
            "outputs": [],
            "source": [
                "# importing necessary libraries\n",
                "import numpy as np\n",
                "import matplotlib.pyplot as plt\n",
                "import pandas as pd"
            ]
        },
        {
            "attachments": {},
            "cell_type": "markdown",
            "metadata": {},
            "source": [
                "## Question 1\n",
                "\n",
                "Create a cell below this one and typeset the relationship between the speed of light, wavelength, and frequency, speed of light = (frequency)*(wavelength). Use $\\LaTeX$ for this and the appropriate symbols to represent each term. Remember, you need to wrap $\\LaTeX$ in dollar signs `$`, like so: `$Latex goes here$`!"
            ]
        },
        {
            "attachments": {},
            "cell_type": "markdown",
            "metadata": {},
            "source": [
                "\u003cfont color = red\u003e\n",
                "5/5\n",
                "\u003c/font\u003e"
            ]
        },
        {
            "attachments": {},
            "cell_type": "markdown",
            "metadata": {},
            "source": [
                "$$c = \\lambda f$$"
            ]
        },
        {
            "attachments": {},
            "cell_type": "markdown",
            "metadata": {},
            "source": [
                "## Question 2\n",
                "\n",
                "Modify the code in the cell below this one. Using a `for` loop, calculate the first $n$ Fibonacci numbers using the recurrence relation:\n",
                "\n",
                "$$ F_n = F_{n-1} + F_{n-2} $$\n",
                "\n",
                "starting with the \"seed values\" $F_1 = 1$, $F_2 = 1$. You should start by using $n = 10$, as it is below, but experiment with setting it higher!\n",
                "\n",
                "Store all of these values in a numpy array called `F`. Start by initializing the numpy array to zeros by using the `np.zeros(n)` function. \n",
                "\n",
                "Hint: you can store values in a particular slot in your numpy array by using square brackets with a number, called the \"index\":\n",
                "\n",
                "```\n",
                "F[0] = 1\n",
                "F[1] = 1\n",
                "```\n",
                "Then use the `for` loop to step over the other elements in the array. You can skip the first two elements by using `F[2:]`. The `:` separates the start element (2 in this case) from the end element (blank in this case, meaning the end of the array). To get the index as well as the value at that index (that is, both `i` and `x[i]`) for each element, use the `enumerate` function in python:"
            ]
        },
        {
            "attachments": {},
            "cell_type": "markdown",
            "metadata": {},
            "source": [
                "\u003cfont color = red\u003e\n",
                "10/10\n",
                "\u003c/font\u003e"
            ]
        },
        {
            "cell_type": "code",
            "execution_count": 2,
            "metadata": {},
            "outputs": [
                {
                    "name": "stdout",
                    "output_type": "stream",
                    "text": "[ 1.  1.  2.  3.  5.  8. 13. 21. 34. 55.]\n"
                }
            ],
            "source": [
                "def Fibinacci(n):\n",
                "    \"\"\"returns a numpy array of the first 'n' numbers of the Fibinacci sequence in order\"\"\"\n",
                "    # creating an array of all zeros to represent the \\\n",
                "    # Fibinacci sequence and making the first two numbers 1\n",
                "    F = np.zeros(n)\n",
                "    F[0] = 1\n",
                "    F[1] = 1\n",
                "\n",
                "    for index, ele in enumerate(F[2:], 2):\n",
                "        F[index] = F[index - 1] + F[index - 2]\n",
                "    return F\n",
                "\n",
                "print(Fibinacci(10))"
            ]
        },
        {
            "attachments": {},
            "cell_type": "markdown",
            "metadata": {},
            "source": [
                "## Question 3\n",
                "\n",
                "Now, create a function below that calculates \n",
                "\n",
                "$$\n",
                "\\frac{F_{n+1}}{F_n}.\n",
                "$$\n",
                "\n",
                "Don't forget to change the cell to \"Code\". You can do this by simply creating a numpy array that has the fibonacci numbers starting from the second one `F[i:]` and then dividing that by the first $n-1$ numbers. When you divide two numpy arrays, they **must** have the same number of elements. Use the `[start:stop]` syntax to get the first $n-1$ numbers. **Store and then print out this new array.**\n",
                "\n",
                "In the cell below the cell with the code, make another \"Text\" cell and explain the behavior of $F_{n+1}/F_n$. What is happening with this sequence? You may need to increase $N$ from 10 to 20 or so. Make a plot using `matplotlib` if you like."
            ]
        },
        {
            "attachments": {},
            "cell_type": "markdown",
            "metadata": {},
            "source": [
                "\u003cfont color = red\u003e\n",
                "10/10\n",
                "\u003c/font\u003e"
            ]
        },
        {
            "cell_type": "code",
            "execution_count": 3,
            "metadata": {},
            "outputs": [
                {
                    "name": "stdout",
                    "output_type": "stream",
                    "text": "F_{n+1}/F_n looks like:\n[1.         2.         1.5        1.66666667 1.6        1.625\n 1.61538462 1.61904762 1.61764706 1.61818182 1.61797753 1.61805556\n 1.61802575 1.61803714]\n"
                }
            ],
            "source": [
                "F = Fibinacci(15)\n",
                "F_n_plus_one = F[1:]  \n",
                "\n",
                "new_array = F_n_plus_one / F[:len(F)-1]\n",
                "print(\"F_{n+1}/F_n looks like:\")\n",
                "print(new_array)"
            ]
        },
        {
            "attachments": {},
            "cell_type": "markdown",
            "metadata": {},
            "source": [
                "It looks like $\\frac{F_{n+1}}{F_n}$ is approaching this constant. We can see this in the graph below each successive term of $\\frac{F_{n+1}}{F_n}$ appears to approach about 1.6. This can be proven as true and this ratio is called the golden ratio: $\\phi \\approx 1.61803$.\n",
                ""
            ]
        },
        {
            "cell_type": "code",
            "execution_count": 15,
            "metadata": {},
            "outputs": [
                {
                    "data": {
                        "text/plain": "\u003cFigure size 640x480 with 1 Axes\u003e"
                    },
                    "metadata": {},
                    "output_type": "display_data"
                }
            ],
            "source": [
                "plt.plot(np.linspace(1,len(new_array),len(new_array)),new_array) \n",
                "plt.title(\"$F_{n+1}*F_n^{-1}$ Sequence\")\n",
                "plt.xlabel(\"n\")\n",
                "plt.ylabel(\"$\\frac{F_{n+1}}{F_n}$\")\n",
                "plt.show()"
            ]
        },
        {
            "attachments": {},
            "cell_type": "markdown",
            "metadata": {},
            "source": [
                "## Question 4\n",
                "\n",
                "Consider the IEEE 754 floating point number represented in memory as \n",
                "\n",
                "| s | e | f |\n",
                "|-|-|-|\n",
                "|0|0000 1110|1010 0000 0000 0000 0000 000\n",
                "\n",
                "In the code cell below and use code to write out the decimal form of the stored exponent $e$ and the total exponent $p = e - B$. Note: use the value of B (bias) for single precision floating numbers!"
            ]
        },
        {
            "attachments": {},
            "cell_type": "markdown",
            "metadata": {},
            "source": [
                "\u003cfont color = red\u003e\n",
                "10/10\n",
                "\u003c/font\u003e"
            ]
        },
        {
            "cell_type": "code",
            "execution_count": 5,
            "metadata": {},
            "outputs": [
                {
                    "name": "stdout",
                    "output_type": "stream",
                    "text": "e = 14\np = -113\n"
                }
            ],
            "source": [
                "e = int('0b00001110',base=2) \n",
                "print(\"e = \" + str(e))\n",
                "\n",
                "beta = 127 # for single precision\n",
                "p = e - beta\n",
                "print(\"p = \" + str(p))"
            ]
        },
        {
            "attachments": {},
            "cell_type": "markdown",
            "metadata": {},
            "source": [
                "Write code below to convert the total mantissa into a decimal mantissa. You should get $1.625$. "
            ]
        },
        {
            "cell_type": "code",
            "execution_count": 6,
            "metadata": {},
            "outputs": [
                {
                    "name": "stdout",
                    "output_type": "stream",
                    "text": "1.625\n"
                }
            ],
            "source": [
                "mantissa = int('0b110100000000000000000000',base=2)*2**-23 # added implied one and had to multiply by\n",
                "                                                           # 2**-23 because int() wont convert nonwhole\n",
                "                                                           # numbers\n",
                "print(mantissa)"
            ]
        },
        {
            "attachments": {},
            "cell_type": "markdown",
            "metadata": {},
            "source": [
                "Combine the mantissa and the exponent part to get the full *decimal* (e.g. $1.234 \\times 10^2$, though with the actual values) number stored. Remember that the exponent stored is $2^{e-B}$, not $10^{e-B}$!! \n",
                "\n",
                "Syntax hint: You will need to use the fact that in Python, `2**p` will compute $2^p$."
            ]
        },
        {
            "cell_type": "code",
            "execution_count": 7,
            "metadata": {},
            "outputs": [
                {
                    "name": "stdout",
                    "output_type": "stream",
                    "text": "1.5648180798146291e-34\n"
                }
            ],
            "source": [
                "number_base_10 = (-1)**0 * mantissa * 2**p\n",
                "print(number_base_10)"
            ]
        },
        {
            "attachments": {},
            "cell_type": "markdown",
            "metadata": {},
            "source": [
                "## Question 5 \n",
                "\n",
                "Recall the quadratic formula. For a quadratic equation $a x^2 + b x + c = 0$, we can find the two solutions with\n",
                "\n",
                "$$ x = \\frac{-b \\pm \\sqrt{b^2 - 4ac}}{2a}.$$\n",
                "\n",
                "First, by hand, find $x'$ \n",
                "$$x' = x \\frac{-b \\mp \\sqrt{b^2 - 4ac}}{-b \\mp \\sqrt{b^2 - 4ac}}$$\n",
                "\n",
                "Create a text cell below this one to typeset your work for $x'$. Explain why solving for $x'$ is equivalent to solving for $x$. (what are we multiplying $x$ by?)"
            ]
        },
        {
            "attachments": {},
            "cell_type": "markdown",
            "metadata": {},
            "source": [
                "\u003cfont color = red\u003e\n",
                "10/10\n",
                "\u003c/font\u003e"
            ]
        },
        {
            "attachments": {},
            "cell_type": "markdown",
            "metadata": {},
            "source": [
                "Is clear that solving for $x'$ in the equation is that same as solving for $x$ as $\\frac{-b \\mp \\sqrt{b^2 - 4ac}}{-b \\mp \\sqrt{b^2 - 4ac}}=1$. However we will know solve it by distributing the numberator and getting a common denominator to get a different representation for $x'$ or $x$:\n",
                "$$ x' = x \\frac{-b \\mp \\sqrt{b^2 - 4ac}}{-b \\mp \\sqrt{b^2 - 4ac}} $$\n",
                "$$ =  \\frac{-b \\pm \\sqrt{b^2 - 4ac}}{2a}* \\frac{-b \\mp \\sqrt{b^2 - 4ac}}{-b \\mp \\sqrt{b^2 - 4ac}} $$\n",
                "$$ =  \\frac{-b \\pm \\sqrt{b^2 - 4ac}}{2a}* \\frac{-b \\mp \\sqrt{b^2 - 4ac}}{-b \\mp \\sqrt{b^2 - 4ac}} $$\n",
                "$$ =  \\frac{-b(-b)-b(\\mp\\sqrt{b^2-4ac})-b(\\pm\\sqrt{b^2-4ac}) -\\left( \\sqrt{b^2-4ac}\\right)^2}{-2ab \\mp 2a\\sqrt{b^2-4ac}}  $$\n",
                "$$ =  \\frac{b^2-(b\\mp\\sqrt{b^2-4ac})+(b\\mp\\sqrt{b^2-4ac}) -b^2+4ac}{-2ab \\mp 2a\\sqrt{b^2-4ac}} $$\n",
                "$$ =  \\frac{4ac}{-2ab \\mp 2a\\sqrt{b^2-4ac}}  $$\n",
                "$$ x=x'=  \\frac{-2c}{b \\pm \\sqrt{b^2-4ac}}  $$\n",
                "\n",
                ""
            ]
        },
        {
            "attachments": {},
            "cell_type": "markdown",
            "metadata": {},
            "source": [
                "In the two cells below, complete the function definitions to create a quadratic formula function for both $x$ and $x'$"
            ]
        },
        {
            "cell_type": "code",
            "execution_count": 8,
            "metadata": {},
            "outputs": [],
            "source": [
                "def quad1(a,b,c):\n",
                "    # corresponds to the computational solutions for x\n",
                "    x1 = (-b + np.sqrt(b**2 - 4*a*c) )/(2*a)\n",
                "    x2 = (-b - np.sqrt(b**2 - 4*a*c) )/(2*a)\n",
                "    return x1, x2"
            ]
        },
        {
            "cell_type": "code",
            "execution_count": 9,
            "metadata": {},
            "outputs": [],
            "source": [
                "def quad2(a,b,c):\n",
                "    # corresponds to the computational solutions for x'\n",
                "    x1_prime = -2*c / (b + np.sqrt(b**2 - 4*a*c))\n",
                "    x2_prime = -2*c / (b - np.sqrt(b**2 - 4*a*c))\n",
                "    return x1_prime, x2_prime"
            ]
        },
        {
            "attachments": {},
            "cell_type": "markdown",
            "metadata": {},
            "source": [
                "Now, make a table of values for all four solutions $x_1$, $x_2$, $x'_1$, $x'_2$ for the following sets of values:\n",
                "\n",
                "$a = b = 1$; $c = 10^n$, for $n = -1,-2,-3,-4$. \n",
                "\n",
                "\n",
                "In a separate markdown cell, explain your results in terms of subtractive cancellation errors. Finally, write a function that computes all four solutions (use the already definied `quad1` and `quad2` functions!) and indicate which solution is most accurate."
            ]
        },
        {
            "cell_type": "code",
            "execution_count": 10,
            "metadata": {},
            "outputs": [
                {
                    "data": {
                        "text/html": "\u003cdiv\u003e\n\u003cstyle scoped\u003e\n    .dataframe tbody tr th:only-of-type {\n        vertical-align: middle;\n    }\n\n    .dataframe tbody tr th {\n        vertical-align: top;\n    }\n\n    .dataframe thead th {\n        text-align: right;\n    }\n\u003c/style\u003e\n\u003ctable border=\"1\" class=\"dataframe\"\u003e\n  \u003cthead\u003e\n    \u003ctr style=\"text-align: right;\"\u003e\n      \u003cth\u003e\u003c/th\u003e\n      \u003cth\u003ea\u003c/th\u003e\n      \u003cth\u003eb\u003c/th\u003e\n      \u003cth\u003ec\u003c/th\u003e\n      \u003cth\u003ex_1\u003c/th\u003e\n      \u003cth\u003ex_2\u003c/th\u003e\n      \u003cth\u003ex_1'\u003c/th\u003e\n      \u003cth\u003ex_2'\u003c/th\u003e\n    \u003c/tr\u003e\n  \u003c/thead\u003e\n  \u003ctbody\u003e\n    \u003ctr\u003e\n      \u003cth\u003e0\u003c/th\u003e\n      \u003ctd\u003e1\u003c/td\u003e\n      \u003ctd\u003e1\u003c/td\u003e\n      \u003ctd\u003e0.1000000000000000\u003c/td\u003e\n      \u003ctd\u003e-0.1127016653792583\u003c/td\u003e\n      \u003ctd\u003e-0.8872983346207417\u003c/td\u003e\n      \u003ctd\u003e-0.1127016653792583\u003c/td\u003e\n      \u003ctd\u003e-0.8872983346207418\u003c/td\u003e\n    \u003c/tr\u003e\n    \u003ctr\u003e\n      \u003cth\u003e1\u003c/th\u003e\n      \u003ctd\u003e1\u003c/td\u003e\n      \u003ctd\u003e1\u003c/td\u003e\n      \u003ctd\u003e0.0100000000000000\u003c/td\u003e\n      \u003ctd\u003e-0.0101020514433644\u003c/td\u003e\n      \u003ctd\u003e-0.9898979485566356\u003c/td\u003e\n      \u003ctd\u003e-0.0101020514433644\u003c/td\u003e\n      \u003ctd\u003e-0.9898979485566336\u003c/td\u003e\n    \u003c/tr\u003e\n    \u003ctr\u003e\n      \u003cth\u003e2\u003c/th\u003e\n      \u003ctd\u003e1\u003c/td\u003e\n      \u003ctd\u003e1\u003c/td\u003e\n      \u003ctd\u003e0.0010000000000000\u003c/td\u003e\n      \u003ctd\u003e-0.0010010020050140\u003c/td\u003e\n      \u003ctd\u003e-0.9989989979949860\u003c/td\u003e\n      \u003ctd\u003e-0.0010010020050140\u003c/td\u003e\n      \u003ctd\u003e-0.9989989979950102\u003c/td\u003e\n    \u003c/tr\u003e\n    \u003ctr\u003e\n      \u003cth\u003e3\u003c/th\u003e\n      \u003ctd\u003e1\u003c/td\u003e\n      \u003ctd\u003e1\u003c/td\u003e\n      \u003ctd\u003e0.0001000000000000\u003c/td\u003e\n      \u003ctd\u003e-0.0001000100020005\u003c/td\u003e\n      \u003ctd\u003e-0.9998999899979994\u003c/td\u003e\n      \u003ctd\u003e-0.0001000100020005\u003c/td\u003e\n      \u003ctd\u003e-0.9998999899980551\u003c/td\u003e\n    \u003c/tr\u003e\n  \u003c/tbody\u003e\n\u003c/table\u003e\n\u003c/div\u003e",
                        "text/plain": "   a  b                  c                 x_1                 x_2  \\\n0  1  1 0.1000000000000000 -0.1127016653792583 -0.8872983346207417   \n1  1  1 0.0100000000000000 -0.0101020514433644 -0.9898979485566356   \n2  1  1 0.0010000000000000 -0.0010010020050140 -0.9989989979949860   \n3  1  1 0.0001000000000000 -0.0001000100020005 -0.9998999899979994   \n\n                 x_1'                x_2'  \n0 -0.1127016653792583 -0.8872983346207418  \n1 -0.0101020514433644 -0.9898979485566336  \n2 -0.0010010020050140 -0.9989989979950102  \n3 -0.0001000100020005 -0.9998999899980551  "
                    },
                    "metadata": {},
                    "output_type": "display_data"
                }
            ],
            "source": [
                "# a function to compute all the solutions using our two different methods\n",
                "def compute_solutions_both_ways(a,b,c):\n",
                "    x1 , x2 = quad1(a,b,c)\n",
                "    x1_prime, x2_prime = quad2(a,b,c)\n",
                "    return x1, x2, x1_prime, x2_prime\n",
                "\n",
                "n_vals = [-1, -2, -3, -4]\n",
                "a = b = 1 # constants across each quadratic\n",
                "data = [] # to be appended to\n",
                "\n",
                "for n in n_vals:\n",
                "    c = 10**n\n",
                "    x1, x2, x1_prime, x2_prime = compute_solutions_both_ways(a,b,c)\n",
                "    data.append([a, b, c, x1, x2, x1_prime, x2_prime])\n",
                "\n",
                "df = pd.DataFrame(data, columns = ['a', 'b', 'c', 'x_1', 'x_2', \"x_1'\", \"x_2'\"])\n",
                "\n",
                "pd.options.display.float_format = \"{:,.16f}\".format\n",
                "\n",
                "display(df)"
            ]
        },
        {
            "attachments": {},
            "cell_type": "markdown",
            "metadata": {},
            "source": [
                "Looking at our numerical results it is not immediatly clear which reluts are more accurate. Thinking in terms of subractive cancellation errors, if we look at out normal quadratic equation: \n",
                "$$ x = \\frac{-b \\pm \\sqrt{b^2 - 4ac}}{2a}.$$\n",
                "It is clear that since $c$ is very small across all of these solutions, we are essentially subtraction two very similar numbers ($-b +\\approx b$)when we solve \n",
                "$$ x = \\frac{-b + \\sqrt{b^2 - 4ac}}{2a}.$$\n",
                "Likewise, this happens for the other syntax for the quadratic equation when we solve \n",
                "$$ x=x'=  \\frac{-2c}{b - \\sqrt{b^2-4ac}}  $$\n",
                "\n",
                "These two solutions with higher subtractive cancellation errors correstpond to $x_1$ and $x_2'$. \n",
                ""
            ]
        },
        {
            "attachments": {},
            "cell_type": "markdown",
            "metadata": {},
            "source": [
                "## Question 6\n",
                "\n",
                "In the code cell below, write a function that computes\n",
                "\n",
                "$$ s_{up} = \\sum_{n=1}^{N} \\frac{1}{n} $$\n",
                " \n",
                "and \n",
                "\n",
                "$$ s_{down} = \\sum_{n=N}^{1} \\frac{1}{n} $$.\n",
                "\n",
                "You should be able to easily convince yourself that $s_{up} = s_{down}$, at least analytically.\n",
                "\n",
                "Your function should take $N$ as input, and return $s_{up}$ and $s_{down}$."
            ]
        },
        {
            "attachments": {},
            "cell_type": "markdown",
            "metadata": {},
            "source": [
                "\u003cfont color = red\u003e\n",
                "10/10\n",
                "\u003c/font\u003e"
            ]
        },
        {
            "cell_type": "code",
            "execution_count": 18,
            "metadata": {},
            "outputs": [],
            "source": [
                "def find_mult_sum(N, double = True):\n",
                "    if double:\n",
                "        # S_up\n",
                "        sum_up = 0 # initializing value\n",
                "        for i in range(1,N+1):\n",
                "            sum_up += 1/i\n",
                "\n",
                "        # S_down\n",
                "        sum_down = 0 # initializing value\n",
                "        for i in range(N,0,-1):\n",
                "            sum_down += 1/i\n",
                "        \n",
                "    else:\n",
                "         # S_up\n",
                "        sum_up = np.float32(0) # initializing value\n",
                "        for i in range(1,N+1):\n",
                "            sum_up += np.float32(1)/np.float32(i)\n",
                "\n",
                "        # S_down\n",
                "        sum_down = 0 # initializing value\n",
                "        for i in range(N,0,-1):\n",
                "            sum_down += np.float32(1)/np.float32(i)\n",
                "        \n",
                "    return sum_up, sum_down"
            ]
        },
        {
            "attachments": {},
            "cell_type": "markdown",
            "metadata": {},
            "source": [
                "Now use your function on the points $N = 10^n$ for $n = 1,2,3,\\ldots,8$. Of $s_{up}$ and $s_{down}$, which is more accurate? Why? You might try running your program with both single precision and double precision.\n",
                "\n",
                "Store $N$ and values of $s_{up}$ and $s_{down}$ for each $N$ in `numpy` arrays, one for single and one for double precision."
            ]
        },
        {
            "cell_type": "code",
            "execution_count": 20,
            "metadata": {},
            "outputs": [
                {
                    "data": {
                        "text/html": "\u003cdiv\u003e\n\u003cstyle scoped\u003e\n    .dataframe tbody tr th:only-of-type {\n        vertical-align: middle;\n    }\n\n    .dataframe tbody tr th {\n        vertical-align: top;\n    }\n\n    .dataframe thead th {\n        text-align: right;\n    }\n\u003c/style\u003e\n\u003ctable border=\"1\" class=\"dataframe\"\u003e\n  \u003cthead\u003e\n    \u003ctr style=\"text-align: right;\"\u003e\n      \u003cth\u003e\u003c/th\u003e\n      \u003cth\u003eN\u003c/th\u003e\n      \u003cth\u003eSum Up Double Precision\u003c/th\u003e\n      \u003cth\u003eSum Down Double Precision\u003c/th\u003e\n      \u003cth\u003eSum Up Single Precision\u003c/th\u003e\n      \u003cth\u003eSum Down Single Precision\u003c/th\u003e\n    \u003c/tr\u003e\n  \u003c/thead\u003e\n  \u003ctbody\u003e\n    \u003ctr\u003e\n      \u003cth\u003e0\u003c/th\u003e\n      \u003ctd\u003e10\u003c/td\u003e\n      \u003ctd\u003e2.9289682539682538\u003c/td\u003e\n      \u003ctd\u003e2.9289682539682538\u003c/td\u003e\n      \u003ctd\u003e2.9289684295654297\u003c/td\u003e\n      \u003ctd\u003e2.9289682805538177\u003c/td\u003e\n    \u003c/tr\u003e\n    \u003ctr\u003e\n      \u003cth\u003e1\u003c/th\u003e\n      \u003ctd\u003e100\u003c/td\u003e\n      \u003ctd\u003e5.1873775176396206\u003c/td\u003e\n      \u003ctd\u003e5.1873775176396215\u003c/td\u003e\n      \u003ctd\u003e5.1873779296875000\u003c/td\u003e\n      \u003ctd\u003e5.1873775757849216\u003c/td\u003e\n    \u003c/tr\u003e\n    \u003ctr\u003e\n      \u003cth\u003e2\u003c/th\u003e\n      \u003ctd\u003e1000\u003c/td\u003e\n      \u003ctd\u003e7.4854708605503433\u003c/td\u003e\n      \u003ctd\u003e7.4854708605503406\u003c/td\u003e\n      \u003ctd\u003e7.4854784011840820\u003c/td\u003e\n      \u003ctd\u003e7.4854709238279611\u003c/td\u003e\n    \u003c/tr\u003e\n    \u003ctr\u003e\n      \u003cth\u003e3\u003c/th\u003e\n      \u003ctd\u003e10000\u003c/td\u003e\n      \u003ctd\u003e9.7876060360443482\u003c/td\u003e\n      \u003ctd\u003e9.7876060360443855\u003c/td\u003e\n      \u003ctd\u003e9.7876129150390625\u003c/td\u003e\n      \u003ctd\u003e9.7876061015704181\u003c/td\u003e\n    \u003c/tr\u003e\n    \u003ctr\u003e\n      \u003cth\u003e4\u003c/th\u003e\n      \u003ctd\u003e100000\u003c/td\u003e\n      \u003ctd\u003e12.0901461298633350\u003c/td\u003e\n      \u003ctd\u003e12.0901461298634079\u003c/td\u003e\n      \u003ctd\u003e12.0908508300781250\u003c/td\u003e\n      \u003ctd\u003e12.0901461953972102\u003c/td\u003e\n    \u003c/tr\u003e\n    \u003ctr\u003e\n      \u003cth\u003e5\u003c/th\u003e\n      \u003ctd\u003e1000000\u003c/td\u003e\n      \u003ctd\u003e14.3927267228649889\u003c/td\u003e\n      \u003ctd\u003e14.3927267228657723\u003c/td\u003e\n      \u003ctd\u003e14.3573579788208008\u003c/td\u003e\n      \u003ctd\u003e14.3927267884743060\u003c/td\u003e\n    \u003c/tr\u003e\n  \u003c/tbody\u003e\n\u003c/table\u003e\n\u003c/div\u003e",
                        "text/plain": "         N  Sum Up Double Precision  Sum Down Double Precision  \\\n0       10       2.9289682539682538         2.9289682539682538   \n1      100       5.1873775176396206         5.1873775176396215   \n2     1000       7.4854708605503433         7.4854708605503406   \n3    10000       9.7876060360443482         9.7876060360443855   \n4   100000      12.0901461298633350        12.0901461298634079   \n5  1000000      14.3927267228649889        14.3927267228657723   \n\n   Sum Up Single Precision  Sum Down Single Precision  \n0       2.9289684295654297         2.9289682805538177  \n1       5.1873779296875000         5.1873775757849216  \n2       7.4854784011840820         7.4854709238279611  \n3       9.7876129150390625         9.7876061015704181  \n4      12.0908508300781250        12.0901461953972102  \n5      14.3573579788208008        14.3927267884743060  "
                    },
                    "metadata": {},
                    "output_type": "display_data"
                },
                {
                    "data": {
                        "text/plain": "' NOTE: This takes a little while to run'"
                    },
                    "execution_count": 20,
                    "metadata": {},
                    "output_type": "execute_result"
                }
            ],
            "source": [
                "# N is done for you. Note that logspace is like linspace\n",
                "# but the numbers are equally spaced LOGARITHMACALLY.\n",
                "N = np.logspace(1,6,6)\n",
                "\n",
                "data = [] # going to append to make a nice table\n",
                "for i in range(len(N)):\n",
                "    sum_up, sum_down = find_mult_sum(int(N[i]))\n",
                "    sum_up_single_pre, sum_down_single_pre = find_mult_sum(int(N[i]), double = False)\n",
                "    data.append([int(N[i]), sum_up, sum_down, sum_up_single_pre, sum_down_single_pre])\n",
                "\n",
                "\n",
                "df = pd.DataFrame(data, columns = ['N', 'Sum Up Double Precision', 'Sum Down Double Precision', 'Sum Up Single Precision', 'Sum Down Single Precision'])\n",
                "\n",
                "pd.options.display.float_format = \"{:,.16f}\".format\n",
                "\n",
                "display(df)\n",
                "\n",
                "\"\"\" NOTE: This takes a little while to run\"\"\""
            ]
        },
        {
            "attachments": {},
            "cell_type": "markdown",
            "metadata": {},
            "source": [
                "Of course, double precision is more accurate. They both give different results. The reason that we get different results for summing up vs down is because things are rounded differently when we start with the really small numbers vs when we've already added the larger numbers. One might try using single point precision if they know that all of there values are close to eachother and easily represented by the computer, that way they don't incur .00000000001, etc. Another reason might be to check if they are running a program that incures some rounding errors, byu seeing if running it with single precision numbers gives different results. "
            ]
        },
        {
            "attachments": {},
            "cell_type": "markdown",
            "metadata": {},
            "source": [
                "Now, after loading the `matplotlib` package in the cell below, use `plt.loglog` to make a plot on logarithmic axes of the relative error between $s_{up}$ and $s_{down}$,\n",
                "\n",
                "$$\\frac{|s_{up} - s_{down}|}{s_{down}}.$$\n",
                "\n",
                "You can use `np.abs` to get the absolute value. Make sure to label both curves using the `label` keyword, as shown in the example below."
            ]
        },
        {
            "cell_type": "code",
            "execution_count": 21,
            "metadata": {},
            "outputs": [],
            "source": [
                "import matplotlib.pyplot as plt\n",
                "%matplotlib inline"
            ]
        },
        {
            "cell_type": "code",
            "execution_count": 22,
            "metadata": {},
            "outputs": [
                {
                    "data": {
                        "text/plain": "\u003cmatplotlib.legend.Legend at 0x7fa981ddfbe0\u003e"
                    },
                    "execution_count": 22,
                    "metadata": {},
                    "output_type": "execute_result"
                },
                {
                    "data": {
                        "image/png": "[encoded data removed]",
                        "text/plain": "\u003cFigure size 640x480 with 1 Axes\u003e"
                    },
                    "metadata": {},
                    "output_type": "display_data"
                }
            ],
            "source": [
                "plt.figure()\n",
                "\n",
                "single = []\n",
                "double = []\n",
                "\n",
                "for i in range(len(N)):\n",
                "    sum_up, sum_down = find_mult_sum(int(N[i]))\n",
                "    sum_up_single_pre, sum_down_single_pre = find_mult_sum(int(N[i]), double = False)\n",
                "\n",
                "    single_ele = np.abs(sum_up_single_pre - sum_down_single_pre) / sum_down\n",
                "    double_ele = np.abs(sum_up - sum_down) / sum_down\n",
                "\n",
                "    single.append(single_ele)\n",
                "    double.append(double_ele)\n",
                "\n",
                "\n",
                "\n",
                "\n",
                "\n",
                "plt.loglog(N,single,label='single precision')\n",
                "plt.loglog(N,double,label='double precision')\n",
                "plt.xlabel(\"$N$\")\n",
                "plt.ylabel(\"$|s_{up} - s_{down}|/s_{down}$\")\n",
                "# use the loc keyword to put the legend out of the way of the data\n",
                "plt.legend(loc='upper right') "
            ]
        },
        {
            "attachments": {},
            "cell_type": "markdown",
            "metadata": {},
            "source": [
                "Single Precision has a lot more error clearly, which makes sense. As it makes more egregious rounding errors and cannot preresent many numbers as accurately."
            ]
        }
    ]
}
