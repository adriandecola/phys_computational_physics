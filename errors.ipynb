{
    "metadata": {
        "kernelspec": {
            "name": "python3",
            "display_name": "Python 3 (ipykernel)",
            "language": "python"
        }
    },
    "nbformat": 4,
    "nbformat_minor": 1,
    "cells": [
        {
            "attachments": {},
            "cell_type": "markdown",
            "metadata": {},
            "source": [
                "# Lab 2: Errors\n",
                "\n",
                "In Lab 1, we discussed the represenation of binary floating point numbers. One of the key results we discussed was the fact that there are only a finite number of bits, usually 64, used to store a floating point number.\n",
                "\n",
                "Today, we're going to explore the often surprising consequences of this fact. First, we'll recall how digits are stored: in an IEEE single precision (32 bit) float, a number is represented as\n",
                "\n",
                "$$(-1)^s 1.f 2^{e-B},$$\n",
                "\n",
                "where the bias $B = 127$. For example,\n",
                "\n",
                "| s | e | f|\n",
                "|- | - | -|\n",
                "| 0 | 10000010 | 01000000000000000000000|\n",
                "\n",
                "What decimal number does this represent? Work it out on paper!"
            ]
        },
        {
            "attachments": {},
            "cell_type": "markdown",
            "metadata": {},
            "source": [
                "$$-1^0 * 1.25 * 2^{130-127} = 1.25 * 2^3 = 10$$"
            ]
        },
        {
            "attachments": {},
            "cell_type": "markdown",
            "metadata": {},
            "source": [
                "## Adding Floating point numbers\n",
                "\n",
                "To begin to see how error creeps in just from our finite floating point representation, let's consider adding two numbers in regular, decimal scientific notation with bias $B= 0$. If we had say $7 + 3 \\times 10^{-5}$, we can easily see the answer is $7.00003$. If we use double precision numbers (as python does by default), this poses no challenge to the computer either:"
            ]
        },
        {
            "cell_type": "code",
            "execution_count": 10,
            "metadata": {},
            "outputs": [
                {
                    "name": "stdout",
                    "output_type": "stream",
                    "text": "7.000003000000000419333900936\n"
                }
            ],
            "source": [
                "print('{:.27f}'.format(7+3e-5)) # I definetly see the rounding error"
            ]
        },
        {
            "attachments": {},
            "cell_type": "markdown",
            "metadata": {},
            "source": [
                "However, let's consider doing the same thing, but now we'll assume we have only 4 digits of precision in the mantissa of our numbers. That gives us $7.000$ and $3.000 \\times 10^{-5}$. So far, so good. Floating point allows us to represent both of these quantities with the same number of digits of precision.\n",
                "\n",
                "When we go to add them, the computer will do that by shifting the smaller number such that it has the same exponent of as the larger number, in this case $10^0$. Remember, we can represent the same number many ways--*but we must keep only 4 digits of precision*:\n",
                "\n",
                "$3.000 \\times 10^{-5} = 0.300 \\times 10^{-4} = 0.030 \\times 10^{-3} = 0.003 \\times 10^{-2}$\n",
                "\n",
                "You can see where this is going. We shift one more time, and we end up with $0.000 \\times 10^{-1}$. This is not good, since this is zero, and we still have one more shift to do! We end up with\n",
                "\n",
                "$7.000 \\times 10^0 + 0.000 \\times 10^0$ = $7.000 \\times 10^0,$ which is clearly the wrong answer.\n",
                "\n",
                "## Machine Precision\n",
                "\n",
                "This leads us to a very important definition: there exists a number $\\epsilon_m$ such that $1_c + \\epsilon_m = 1_c$, where that subscript $c$ means \"as represented on the computer\" rather than \"the mathematical object 1\".\n",
                "\n",
                "Let's find an approximation for $\\epsilon_m$ experimentally. In doing so, we're going to meet another kind of loop, called the `while` loop. A `while` loop tests an expression at the top, just like an if statement. If the expression is true, then the loop body executes. If it is false, the loop stops. **Be careful! While loops may never stop!** This is sometimes what you want, but often not. You *must make sure* that the expression at the top changes! \n",
                "\n",
                "#### hint\n",
                "If your while loop seems to never end, you can go to the `Kernel` menu in the Jupyter notebook and choose `Interrupt Kernel`. That should cause your code to stop and an error message to be printed. You can then fix your loop and restart. Any calculation like these ones should be more or less instantaneous. Later in the class, we'll have calculations that will take longer."
            ]
        },
        {
            "cell_type": "code",
            "execution_count": 11,
            "metadata": {},
            "outputs": [
                {
                    "name": "stdout",
                    "output_type": "stream",
                    "text": "1.1102230246251565e-16\n1.0\n"
                }
            ],
            "source": [
                "eps = 1.\n",
                "test = 1. + eps\n",
                "while test != 1.: # so this loop will run as long as test+eps is not exactly equal to one.\n",
                "    eps = eps/2. # \u003c---- here we *change* eps! \n",
                "    test = 1.+eps # \u003c---- here we *change* test! \n",
                "print(eps)\n",
                "print(test)"
            ]
        },
        {
            "attachments": {},
            "cell_type": "markdown",
            "metadata": {},
            "source": [
                "So what does this code do? How does it find epsilon? \n",
                "\n",
                "That expression above was using standard python floating point numbers, which are double precision. We can use `numpy` to create *single precision* numbers. Here's how:"
            ]
        },
        {
            "cell_type": "code",
            "execution_count": 14,
            "metadata": {},
            "outputs": [
                {
                    "name": "stdout",
                    "output_type": "stream",
                    "text": "5.9604645e-08\n"
                }
            ],
            "source": [
                "import numpy as np\n",
                "eps = np.float32(1.)\n",
                "test = np.float32(1.) + eps\n",
                "\n",
                "while test != np.float32(1.): \n",
                "    eps = eps/np.float32(2) \n",
                "    test = np.float32(1.)+eps  \n",
                "print(eps)"
            ]
        },
        {
            "attachments": {},
            "cell_type": "markdown",
            "metadata": {},
            "source": [
                "Note we have to be careful! Every number in python is double precision unless you say otherwise. Also, python is smart enough to automatically \"promote\" a variable like `eps` to double precision if you add, subtract, multiply, or divide by something of double precision. That's why I've carefully set all numbers to be `np.float32`s in the above cell.\n",
                "\n",
                "### Questions\n",
                "\n",
                "What is the difference in $\\epsilon_m$ between single and double precision? Try to explain what is going on in terms of what you've learned about floating point numbers, comparing them to numbers written in scientific notation with a limited precision."
            ]
        },
        {
            "attachments": {},
            "cell_type": "markdown",
            "metadata": {},
            "source": [
                "$\\epsilon_m$ is clearly much larger in single precision. This makes sense as single preceision does not use as many bits and it is therefore $\\epsilon_m$ does not have to be as small to get 'shifted off the mantissa'. Its easy to compare this to the concept of significant figures. Representing a number with single preceision is like having a smaller number of significant figures if we add a smaller number so that its smaller that what is significant in our other measurement we get the same measurement. With a smaller number of significant figures this of couse happens with a larger number. "
            ]
        },
        {
            "attachments": {},
            "cell_type": "markdown",
            "metadata": {},
            "source": [
                "## Subtractive cancellation\n",
                "\n",
                "By hand, subtract $5.324$ from $5.321$. How many digits of precision did you start with? How many did you end with? What does that tell you about your new answer? Think about these questions for a minute before proceeding.\n",
                "\n",
                "This is called *subtractive cancellation*: you are cancelling off all of your more precise digits, and leaving only the least precise one (in this case). The subtraction you compute may be exact itself, but if there is any error in the starting values ($5.324$ and $5.321$) it becomes **amplified**. The technical term for this is \"bad.\"\n",
                "\n",
                "### Example 1\n",
                "\n",
                "Calculate $y = \\sqrt{x + 1} - \\sqrt{x}$ for $x = 10^i$ with $i = 1,2,3,\\ldots,20$. **Be careful:** you want $x$ to be a `float`, not an `int`. To do that make sure you use `10.**i` Store the answers in a numpy array called `y1`."
            ]
        },
        {
            "cell_type": "code",
            "execution_count": 22,
            "metadata": {},
            "outputs": [
                {
                    "name": "stdout",
                    "output_type": "stream",
                    "text": "[1.54347130e-01 4.98756211e-02 1.58074374e-02 4.99987501e-03\n 1.58113488e-03 4.99999875e-04 1.58113879e-04 5.00000006e-05\n 1.58113908e-05 4.99999442e-06 1.58115290e-06 5.00003807e-07\n 1.57859176e-07 5.02914190e-08 1.86264515e-08 0.00000000e+00\n 0.00000000e+00 0.00000000e+00 0.00000000e+00 0.00000000e+00]\n"
                }
            ],
            "source": [
                "y1_ls = []\n",
                "for i in range(1,21):\n",
                "    y = (10.**i + 1)**(.5) - (10.**i)**(.5)\n",
                "    y1_ls.append(y)\n",
                "\n",
                "y1 = np.array(y1_ls)\n",
                "print(y1)"
            ]
        },
        {
            "attachments": {},
            "cell_type": "markdown",
            "metadata": {},
            "source": [
                "Now do the same thing, but get rid of the subtraction. Multiply $y$ by \n",
                "\n",
                "$$\\frac{\\sqrt{x + 1} + \\sqrt{x}}{\\sqrt{x + 1} + \\sqrt{x}}$$\n",
                "\n",
                "You should get a new expression for $y$ with no subtractions. Now, using your new formulation, calculate $y$ again, and store it in a new numpy array `y2`."
            ]
        },
        {
            "cell_type": "code",
            "execution_count": 23,
            "metadata": {},
            "outputs": [
                {
                    "name": "stdout",
                    "output_type": "stream",
                    "text": "[1.54347130e-01 4.98756211e-02 1.58074374e-02 4.99987501e-03\n 1.58113488e-03 4.99999875e-04 1.58113879e-04 4.99999999e-05\n 1.58113883e-05 5.00000000e-06 1.58113883e-06 5.00000000e-07\n 1.58113883e-07 5.00000000e-08 1.58113883e-08 5.00000000e-09\n 1.58113883e-09 5.00000000e-10 1.58113883e-10 5.00000000e-11]\n"
                }
            ],
            "source": [
                "y2_ls = []\n",
                "for i in range(1,21):\n",
                "    y = 1 / ((10.**i + 1)**(.5) + (10.**i)**(.5))\n",
                "    y2_ls.append(y)\n",
                "\n",
                "y2 = np.array(y2_ls)\n",
                "print(y2)"
            ]
        },
        {
            "attachments": {},
            "cell_type": "markdown",
            "metadata": {},
            "source": [
                "Clearly the second result is more accurate-- in the first result we even lost all of our precision and got 0 for the last few calculations. This makes sense as we aren't subtracting very similar numbers and losing our most precise digits. "
            ]
        },
        {
            "attachments": {},
            "cell_type": "markdown",
            "metadata": {},
            "source": [
                "Which one of these is more accurate? If it's not obvious, you probably made a coding mistake.\n",
                "\n",
                "The less accurate one is called *unstable*. The errors caused by subtractive cancellation *grow* as you move to certain values of $x$, in this case, large values.\n",
                "\n",
                "Now using `pyplot`, plot the answer with subtraction `y1` and the answer without subtraction `y2` as a function of `x`. Code to do this is in the cell below. Look at the code and see the sytle of the plot."
            ]
        },
        {
            "cell_type": "code",
            "execution_count": 24,
            "metadata": {},
            "outputs": [],
            "source": [
                "%matplotlib inline\n",
                "import matplotlib.pyplot as plt\n",
                "plt.style.use('ggplot')\n",
                "\n",
                "x = [10.**i for i in range(1,21)]"
            ]
        },
        {
            "cell_type": "code",
            "execution_count": 25,
            "metadata": {},
            "outputs": [
                {
                    "data": {
                        "text/plain": "\u003cmatplotlib.legend.Legend at 0x7f88691fcf70\u003e"
                    },
                    "execution_count": 25,
                    "metadata": {},
                    "output_type": "execute_result"
                },
                {
                    "data": {
                        "image/png": "[encoded data removed]",
                        "text/plain": "\u003cFigure size 432x288 with 1 Axes\u003e"
                    },
                    "metadata": {},
                    "output_type": "display_data"
                }
            ],
            "source": [
                "plt.plot(x,y1, label='with subtraction')\n",
                "plt.plot(x,y2, 'o', label='without subtraction')\n",
                "plt.xlabel(\"x\")\n",
                "plt.ylabel(\"$\\sqrt{x+1} - \\sqrt{x}$\")\n",
                "plt.legend()"
            ]
        },
        {
            "attachments": {},
            "cell_type": "markdown",
            "metadata": {},
            "source": [
                "What's wrong with this plot? one thig to note is that the $x$ axis clearly varies by a *lot*. Using a logarithmic plot is helpful here. Matplotlib allows log plots on the x, y, or both axes easily:\n",
                "\n",
                "```\n",
                "plt.semilogx(x,y)\n",
                "plt.semilogy(x,y)\n",
                "plt.loglog(x,y)\n",
                "```"
            ]
        },
        {
            "attachments": {},
            "cell_type": "markdown",
            "metadata": {},
            "source": [
                "But even if you try that you might still not be able to see a clear difference between them. How could you fix this? *hint: it's something you learned in 107, if not before that*\n",
                "\n",
                "Fix it, and show a plot that displays how much worse one solution is than the other. Make sure to label all axes on the plot!"
            ]
        },
        {
            "cell_type": "code",
            "execution_count": 28,
            "metadata": {},
            "outputs": [
                {
                    "data": {
                        "text/plain": "\u003cmatplotlib.legend.Legend at 0x7f8868517dc0\u003e"
                    },
                    "execution_count": 28,
                    "metadata": {},
                    "output_type": "execute_result"
                },
                {
                    "data": {
                        "image/png": "[encoded data removed]",
                        "text/plain": "\u003cFigure size 432x288 with 1 Axes\u003e"
                    },
                    "metadata": {},
                    "output_type": "display_data"
                }
            ],
            "source": [
                "plt.semilogx(x,y1, label='with subtraction')\n",
                "plt.semilogx(x,y2, 'o', label='without subtraction')\n",
                "plt.xlabel(\"x\")\n",
                "plt.ylabel(\"$\\sqrt{x+1} - \\sqrt{x}$\")\n",
                "plt.legend()"
            ]
        },
        {
            "cell_type": "code",
            "execution_count": 31,
            "metadata": {},
            "outputs": [
                {
                    "name": "stderr",
                    "output_type": "stream",
                    "text": "No artists with labels found to put in legend.  Note that artists whose label start with an underscore are ignored when legend() is called with no argument.\n"
                },
                {
                    "data": {
                        "text/plain": "\u003cmatplotlib.legend.Legend at 0x7f88682e6530\u003e"
                    },
                    "execution_count": 31,
                    "metadata": {},
                    "output_type": "execute_result"
                },
                {
                    "data": {
                        "image/png": "[encoded data removed]",
                        "text/plain": "\u003cFigure size 432x288 with 1 Axes\u003e"
                    },
                    "metadata": {},
                    "output_type": "display_data"
                }
            ],
            "source": [
                "plt.semilogx(x,abs(y1 - y2)/y2_ls)\n",
                "plt.xlabel(\"x\")\n",
                "plt.ylabel(\"$(y1-y2)/y2$\")\n",
                "plt.title(\"y1 deviation relative to y2\")\n",
                "plt.legend()"
            ]
        },
        {
            "attachments": {},
            "cell_type": "markdown",
            "metadata": {},
            "source": [
                "### Example 2\n",
                "\n",
                "You need to compute the following \n",
                "\n",
                "$$y = \\frac{\\sin \\theta}{\\sqrt{1 - \\sin^2 \\theta}}$$\n",
                "\n",
                "for $\\theta \\to \\pi/2$. \n",
                "\n",
                "Your first thought is to simply solve the equation for a set of $\\theta$, something like $\\theta = [\\pi/2 - n \\epsilon, \\pi/2 - (n-1) \\epsilon,\\pi/2 - (n-2) \\epsilon\\ldots,\\pi/2-\\epsilon]$, where $\\epsilon \u003c 1$ and $n \\simeq 200$. Don't use $\\theta = \\pi/2$! Ask yourself why not before continuing.\n",
                "\n",
                "First, set up your $\\theta$ variable as a numpy array called `theta`. Make sure the values get closer to $\\theta$. Try experimenting with different values of $\\epsilon \u003c 1$. "
            ]
        },
        {
            "cell_type": "code",
            "execution_count": 41,
            "metadata": {},
            "outputs": [
                {
                    "name": "stdout",
                    "output_type": "stream",
                    "text": "[1.4707963267948965, 1.5207963267948965, 1.5457963267948966, 1.5582963267948966, 1.5645463267948965, 1.5676713267948965, 1.5692338267948966, 1.5700150767948966, 1.5704057017948965, 1.5706010142948965, 1.5706986705448966, 1.5707474986698966, 1.5707719127323965, 1.5707841197636465, 1.5707902232792716, 1.570793275037084, 1.5707948009159902, 1.5707955638554434, 1.57079594532517, 1.5707961360600333, 1.5707962314274648, 1.5707962791111807, 1.5707963029530387, 1.5707963148739676, 1.570796320834432, 1.5707963238146643, 1.5707963253047805, 1.5707963260498385, 1.5707963264223674, 1.570796326608632, 1.5707963267017644, 1.5707963267483305, 1.5707963267716134, 1.570796326783255, 1.5707963267890759, 1.5707963267919862, 1.5707963267934413, 1.570796326794169, 1.5707963267945328, 1.5707963267947147, 1.5707963267948055, 1.570796326794851, 1.570796326794874, 1.5707963267948852, 1.5707963267948908, 1.5707963267948937, 1.5707963267948952, 1.570796326794896, 1.5707963267948961]\n"
                }
            ],
            "source": [
                "eps = .1\n",
                "theta = []\n",
                "while np.pi/2 + eps != np.pi/2: # so this loop will run as long as epsilon still changes pi/2\n",
                "    theta.append(np.pi/2 - eps)\n",
                "    eps = eps/2.\n",
                "\n",
                "print(theta)"
            ]
        },
        {
            "attachments": {},
            "cell_type": "markdown",
            "metadata": {},
            "source": [
                "Now that you have `theta`, compute $y$ using the above formula. "
            ]
        },
        {
            "cell_type": "code",
            "execution_count": 60,
            "metadata": {},
            "outputs": [
                {
                    "name": "stdout",
                    "output_type": "stream",
                    "text": "[9.966644423259181, 19.983330554894348, 39.99166631942791, 79.99583328996337, 159.99791666095294, 319.99895833138146, 639.99947916409, 1279.9997395133598, 2559.999868687987, 5119.999937212467, 10239.999946403503, 20480.00020446778, 40959.99663085979, 81919.97802124907, 163840.0781220041, 327680.15624858584, 655352.5001279806, 1310830.0138489068, 2622160.296766521, 5240321.873475328, 10480643.7469508, 21221686.142647773, 38745320.695409976, 67108863.99999999]\n"
                }
            ],
            "source": [
                "y = []\n",
                "i = 0\n",
                "new_theta = []\n",
                "# this is to make sure after all these roundings we do not divide by zero\n",
                "while np.sqrt(1 - np.sin(theta[i])**2) != 0:\n",
                "    y.append(np.sin(theta[i]) /np.sqrt(1 - np.sin(theta[i])**2))\n",
                "    new_theta.append(theta[i])\n",
                "    i += 1\n",
                "\n",
                "print(y)"
            ]
        },
        {
            "attachments": {},
            "cell_type": "markdown",
            "metadata": {},
            "source": [
                "Now, use your knowledge of trigonometry to find an equivalent form for $y$. *Hint: it's a single trig function*\n",
                "\n",
                "`numpy` has that function built-in. Run it on your `theta` array, and print the difference between your computed `y` and the answer given by the numpy function. This is called the \"absolute error\", $E_{abs} \\equiv |x_{true} - x_{calc}|$."
            ]
        },
        {
            "cell_type": "code",
            "execution_count": 62,
            "metadata": {},
            "outputs": [
                {
                    "name": "stdout",
                    "output_type": "stream",
                    "text": "[4.08562073e-14 3.76587650e-13 4.08562073e-12 3.35660388e-11\n 2.84529733e-10 1.26289024e-09 2.50327048e-09 6.99353677e-08\n 1.10269502e-06 2.31940248e-06 2.10473063e-05 2.20750877e-04\n 3.36075045e-03 2.19739730e-02 7.81232981e-02 1.56251409e-01\n 7.49980706e+00 1.10014031e+02 7.20296577e+02 2.55812606e+03\n 5.11623655e+03 2.50166189e+05 3.19771935e+06 1.67772159e+07]\n"
                }
            ],
            "source": [
                "y_2 = np.tan(new_theta)\n",
                "print(abs(y_2 - y)) # the absolute error"
            ]
        },
        {
            "attachments": {},
            "cell_type": "markdown",
            "metadata": {},
            "source": [
                "Now compute the *relative* error (you may have called this the \"percent error\" before). $E_{rel} \\equiv |x_{true} - x_{calc}|/x_{true}$.\n",
                "\n",
                "Finally, plot the *relative* error  as a function of $\\theta$."
            ]
        },
        {
            "cell_type": "code",
            "execution_count": 67,
            "metadata": {},
            "outputs": [
                {
                    "data": {
                        "text/plain": "Text(0.5, 1.0, 'The Relative Error between our Different Calculations for tan(theta)')"
                    },
                    "execution_count": 67,
                    "metadata": {},
                    "output_type": "execute_result"
                },
                {
                    "data": {
                        "image/png": "[encoded data removed]",
                        "text/plain": "\u003cFigure size 432x288 with 1 Axes\u003e"
                    },
                    "metadata": {},
                    "output_type": "display_data"
                }
            ],
            "source": [
                "relative_err = abs(y_2 - y)/y_2\n",
                "\n",
                "plt.semilogy(new_theta ,relative_err)\n",
                "plt.xlabel(\"Theta\")\n",
                "plt.ylabel(\"$|x_{true} - x_{calc}|/x_{true}$\")\n",
                "plt.title(\"The Relative Error between our Different Calculations for tan(theta)\")\n",
                ""
            ]
        },
        {
            "attachments": {},
            "cell_type": "markdown",
            "metadata": {},
            "source": [
                "**Very important note**: The *true* solution is often unknown, and in any real problem is totally unknown. If you knew the true solution, you wouldn't be bothering to run a computer simulation! It's very important for you to remember that the built in numpy function you just calculated is **also** an approximation, but in this case, it's a much, much better approximation. \n",
                "\n",
                "**Every computational answer is wrong, but some wrong answers are useful!**"
            ]
        },
        {
            "cell_type": "code",
            "execution_count": 0,
            "metadata": {},
            "outputs": [],
            "source": [
                ""
            ]
        }
    ]
}
